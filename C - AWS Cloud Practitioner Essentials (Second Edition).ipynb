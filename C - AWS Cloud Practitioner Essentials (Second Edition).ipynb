{
 "cells": [
  {
   "cell_type": "markdown",
   "metadata": {},
   "source": [
    "Here are some notes I jot down during my learning about AWS Cloud Practitionner Certification learning."
   ]
  },
  {
   "cell_type": "markdown",
   "metadata": {},
   "source": [
    "CLF-C01"
   ]
  },
  {
   "cell_type": "markdown",
   "metadata": {},
   "source": [
    "## Contents:\n",
    "* [Intro to AWS Cloud](#intro_aws)\n",
    "    * [Services Overview]()\n",
    "* [Core Services](#core_services)\n",
    "    * [EC2](#ec2)\n",
    "    * [EBS](#ebs)\n",
    "    * [S3](#s3) *\n",
    "    * [AWS Global Infrastructure](#infrastructure)\n",
    "    * [VPC](#vpc)\n",
    "    * [Security Groups](#security)\n",
    "* [Integrated Services](#services)\n",
    "    * [Elastic Load Balancer](#lbalancer) *\n",
    "    * [Route 53](#route53)\n",
    "    * [RDS](#rds)\n",
    "    * [Lambda](#lambda)\n",
    "    * [Elastic Beanstalk](#elastic_beanstalk)\n",
    "    * [SNS](#sns)\n",
    "    * [CloudWatch](#cloudwatch)\n",
    "    * [CloudFront](#cloudfront)\n",
    "    * [CloudFormation](#cloudformation)\n",
    "* [AWS Architecture](#aws_architecture)\n",
    "    * [Well-Architected Framework](#arch_framework)\n",
    "    * [Fault Tolerance and High Availability](#arch_fault_availability)\n",
    "    * [Web Hosting](#arch_webhosting)\n",
    "* [Security](#awsSecurity) \n",
    "    * [Shared Responsability Model](#sec_SRM)\n",
    "    * [IAM](#sec_iam)\n",
    "    * [Inspector](#sec_inspector)\n",
    "    * [Shield](#sec_shield)\n",
    "* [Pricing](#pricing)\n",
    "    * [Fundaments of Pricing](#pricing_fundaments)\n",
    "    * [Pricing details](#pricing_details)\n",
    "    * [Trusted Advisor](#pricing_trustedadvisor)\n",
    "    * [Support Plans](#pricing_support)"
   ]
  },
  {
   "cell_type": "markdown",
   "metadata": {},
   "source": [
    "References:\n",
    "* [Overview of Amazon Web Services, AWS Whitepaper, AWS](https://d0.awsstatic.com/whitepapers/aws-overview.pdf)\n",
    "* [AWS Cloud Practitioner (CLF-C01), testprep](https://www.testpreptraining.com/tutorial/aws-cloud-practitioner/)\n",
    "* [AWS Well-Architected Framework](https://d1.awsstatic.com/whitepapers/architecture/AWS_Well-Architected_Framework.pdf)\n",
    "* [Architecting for the Cloud](https://d1.awsstatic.com/whitepapers/AWS_Cloud_Best_Practices.pdf)\n",
    "* [How AWS Pricing works](https://d0.awsstatic.com/whitepapers/aws_pricing_overview.pdf)\n",
    "* [The Total Cost of (Non) Ownership of\n",
    "Web Applications in the Cloud](https://media.amazonwebservices.com/AWS_TCO_Web_Applications.pdf)\n",
    "* [Compare AWS Support Plans](https://aws.amazon.com/it/premiumsupport/plans/)\n",
    "* [IBM Cloud\n",
    "Learn Hub](https://www.ibm.com/cloud/learn), very good explainations."
   ]
  },
  {
   "cell_type": "markdown",
   "metadata": {},
   "source": [
    "More Resources for preparation\n",
    "* https://www.aws.training/Details/Curriculum?id=27076\n",
    "* https://www.aws.training/Details/eLearning?id=60697\n",
    "* https://cloudacademy.com/\n",
    "* https://www.aws.training/Details/eLearning?id=37545\n",
    "* https://www.testpreptraining.com/tutorial/aws-cloud-practitioner/define-the-aws-cloud-and-its-value-proposition/"
   ]
  },
  {
   "cell_type": "markdown",
   "metadata": {},
   "source": [
    "## <div id='intro_aws'>Intro to AWS Cloud</div>"
   ]
  },
  {
   "cell_type": "markdown",
   "metadata": {
    "heading_collapsed": true
   },
   "source": [
    "#### Services Overview"
   ]
  },
  {
   "cell_type": "markdown",
   "metadata": {
    "hidden": true
   },
   "source": [
    "<img src='./imgs/services_by_cloud_functionality.png'></img>"
   ]
  },
  {
   "cell_type": "markdown",
   "metadata": {
    "heading_collapsed": true
   },
   "source": [
    "### Introduction to AWS Cloud"
   ]
  },
  {
   "cell_type": "markdown",
   "metadata": {
    "hidden": true
   },
   "source": [
    "Cloud computing: refers to on-demand delivery of IT resources and applications via the internet.\n",
    "\n",
    "With it you can access and scale in seconds. You can think of them as disposable resources.\n",
    "cloud computing helps to respond quickly elasticly and efficiently to risk.\n",
    "\n",
    "Companies are increasingly using Cloud to increase the agility.  \n",
    "Three of the main factors influencing the agility are:\n",
    "1. Increasing speed\n",
    "2. The easy of experimentation (Low costs, low risk)\n",
    "3. Cultivating a culture of innovation\n",
    "\n",
    "Elasticity is the power to scale computer resources easily.  \n",
    "Reliability is the ability of a system to recover from infrastructure or servers failures. In CC (cloud computing) mean the ability to acquire resources and meet demand and mitigate disruptions.\n",
    "\n",
    "#### [Regions, Availability Zones, and Local Zones](https://docs.aws.amazon.com/AmazonRDS/latest/UserGuide/Concepts.RegionsAndAvailabilityZones.html).\n",
    "AWS Data Centers are located in multiple *Regions*.  \n",
    "Each *Region* is separate geographic area that has a multiple isolated locations known as *availability zones*.  \n",
    "*Availability zones* consist in one or more discrete data centers with each redundant power, networking and connectivity housed in separate facilities. They are indicated like the following ```us-east-1a```.  \n",
    "So when you use AWS services you can puts your insances and data in multiple locations.\n",
    "\n",
    "This way your data are more available and fault tolerant.\n",
    "*Fault tolerance* refers to a system remain operational even if some of its components fail.\n",
    "All of this without direct human intervention.\n",
    "\n",
    "Security of customers data.\n",
    "You detain complete control of the storage. \n",
    "\n",
    "Data centers are staffed 24/7 by security guards."
   ]
  },
  {
   "cell_type": "markdown",
   "metadata": {
    "heading_collapsed": true
   },
   "source": [
    "### Introduction to AWS interfaces"
   ]
  },
  {
   "cell_type": "markdown",
   "metadata": {
    "hidden": true
   },
   "source": [
    "3 ways to use AWS:\n",
    "* AWS Management **console**\n",
    "* **CLI**\n",
    "* SDK\n",
    "\n",
    "These are your *interfaces* to AWS.\n",
    "\n",
    "The first one is the easiest way. There you can:\n",
    "* create shortcut to mos used services\n",
    "* create *resources groups* for each application, service, applications groups,...\n",
    "* tag services in order to drive resources to them at once, through the *tag editor*.\n",
    "\n",
    "The CLI is an open source tool built for interacting with AWS services.\n",
    "\n",
    "The SDK enables application built on AWS to manage IaaC. It lets you easily incorporate connectivity and functionalities of the cloud services in the code.\n",
    "\n",
    "Recap:\n",
    "* It lets you create your own resources\n",
    "* Access features on the go\n"
   ]
  },
  {
   "cell_type": "markdown",
   "metadata": {},
   "source": [
    "## <div id='core_services'>Core Services</div>\n"
   ]
  },
  {
   "cell_type": "markdown",
   "metadata": {},
   "source": [
    "Let's see some concepts before to start.\n",
    "\n",
    "#### Storage\n",
    "There are three common ways (architectures) to organize and store data on modern enterprise storage devices:\n",
    "* [File Level](https://www.ibm.com/cloud/learn/file-storage). Is a hierarchical storage methodology used to organize and store data on a computer hard drive or on network-attached storage (NAS) device. In file storage, data is stored in files, the files are organized in folders, and the folders are organized under a hierarchy of directories and subdirectories. To locate a file, all you or your computer system need is the path—from directory to subdirectory to folder to file. It  works well with easily organized amounts of structured data.\n",
    "* [Object Level](https://en.wikipedia.org/wiki/Object_storage). It manages data as objects. Object storage systems allow retention of massive amounts of unstructured data. Object storage is used for purposes such as storing photos on Facebook, songs on Spotify, or files in online collaboration services, such as Dropbox.\n",
    "* [Block Level](https://www.ibm.com/cloud/learn/block-storage). Block storage, sometimes referred to as block-level storage, is a technology that is used to store data files on Storage Area Networks (SANs) or cloud-based storage environments. Developers favor block storage for computing situations where they require fast, efficient, and reliable data transportation.\n",
    "Block storage breaks up data into blocks and then stores those blocks as separate pieces, each with a unique identifier. The SAN places those blocks of data wherever it is most efficient. That means it can store those blocks across different systems and each block can be configured (or partitioned) to work with different operating systems.\n"
   ]
  },
  {
   "cell_type": "markdown",
   "metadata": {
    "heading_collapsed": true
   },
   "source": [
    "### [<div id='ec2'>EC2 (Elastic Cloud Computing)</div>](https://aws.amazon.com/ec2/?nc1=h_ls&ec2-whats-new.sort-by=item.additionalFields.postDateTime&ec2-whats-new.sort-order=desc)\n",
    "Images (Instance Storage)"
   ]
  },
  {
   "cell_type": "markdown",
   "metadata": {
    "hidden": true
   },
   "source": [
    "An elastic virtual computing web service. You can launch instances and run OSs on them.  \n",
    "Here we are talking like about virtual servers, but we really mean *instances*.\n",
    "> When you launch an instance, the instance type that you specify determines the hardware of the host computer used for your instance. Each instance type offers different compute, memory, and storage capabilities and are grouped in instance families based on these capabilities. Select an instance type based on the requirements of the application or software that you plan to run on your instance.\n",
    "\n",
    "You can choose HW/SW."
   ]
  },
  {
   "cell_type": "markdown",
   "metadata": {
    "hidden": true
   },
   "source": [
    "<img src='./imgs/ec2_types.png'></img>"
   ]
  },
  {
   "cell_type": "markdown",
   "metadata": {
    "hidden": true
   },
   "source": [
    "How to build and configurate a EC2\n",
    "\n",
    "1. AWS Console -> choose a region\n",
    "2. Launch EC2 wizard\n",
    "3. Select AMI, Amazon Machine Image (SW)\n",
    "4. Select Instance type (HW)\n",
    "5. Configure network\n",
    "6. Configure storage\n",
    "7. Configure key pairs\n",
    "    1. Create a new Key pair\n",
    "        1. write a key pair name\n",
    "        2. Download the private key\n",
    "8. Launch the instance\n",
    "9. Click on the identifier in order to see your instance building and becoming available, in the instances console.\n",
    "10. In the *Description* tab you can take the *Public DNS* and use it to access the instance, along with your key pair, for SSH auth.\n",
    "\n"
   ]
  },
  {
   "cell_type": "markdown",
   "metadata": {
    "hidden": true
   },
   "source": [
    "A *Security Group* is a set of firewall rules."
   ]
  },
  {
   "cell_type": "markdown",
   "metadata": {
    "hidden": true
   },
   "source": [
    "Q: What are the benefits of using EC2 instances compared to physical servers in your infrastructure?\n",
    "1. Pay only for the capacity you use\n",
    "2. The ability to have different storage requirements"
   ]
  },
  {
   "cell_type": "markdown",
   "metadata": {
    "heading_collapsed": true
   },
   "source": [
    "### [<div id='ebs'>EBS (Elastic Block Store)</div>](https://aws.amazon.com/ebs/)\n",
    "Volumes (Block Storage)"
   ]
  },
  {
   "cell_type": "markdown",
   "metadata": {
    "hidden": true
   },
   "source": [
    "EBS Volumes can be used as storage unit for EC2 instances. They can be HDD or SDD, and are meant to be durable, thus replicated.\n",
    "\n",
    "* Snapshots are available. They are sharable.  \n",
    "* You can encrypt data and secure with a key.\n",
    "\n",
    "\n",
    "#### How to use it\n",
    "1. AWS Console -> EC2\n",
    "2. EBS menu -> *Volumes*\n",
    "3. Create a Volume\n",
    "    1. Click *Create Volume*\n",
    "    2. Follow the form\n",
    "    3. Obtain the Volume ID from the creation completion screen.\n",
    "4. Attach it  to an Instance\n",
    "    1. Click *Actions*\n",
    "    2. select *Attach Volume*\n",
    "5. Log inside the Instance\n",
    "    1. Select an instance\n",
    "    2. Click *Connect* button\n",
    "    3. Copy the ssh command example\n",
    "    4. Run such command in a terminal\n",
    "    5. Now you'll be connected\n",
    "    6. Run ```lsblk``` and see the Volume now present\n",
    "6. Mount the volume onto the EC2 OS\n",
    "\n",
    "\n",
    "You can detach a Volume from an Instance and attach to another.  \n",
    "You can tag a Volume, in order to better filter logs and billings."
   ]
  },
  {
   "cell_type": "markdown",
   "metadata": {},
   "source": [
    "### [<div id='s3'>S3 (Simple Storage Service)</div>](https://aws.amazon.com/s3/)\n",
    "Object Storage"
   ]
  },
  {
   "cell_type": "code",
   "execution_count": null,
   "metadata": {},
   "outputs": [],
   "source": []
  },
  {
   "cell_type": "markdown",
   "metadata": {
    "heading_collapsed": true
   },
   "source": [
    "### [<div id='infrastructure'>AWS Global Infrastructure</div>](https://aws.amazon.com/about-aws/global-infrastructure/)\n",
    "Physical Infrastructure"
   ]
  },
  {
   "cell_type": "markdown",
   "metadata": {
    "hidden": true
   },
   "source": [
    "Can be broken down 3 topics:\n",
    "* Regions\n",
    "* Availability Zones\n",
    "* Edge Locations"
   ]
  },
  {
   "cell_type": "markdown",
   "metadata": {
    "hidden": true
   },
   "source": [
    "#### Regions (Organizing level)\n",
    "\n",
    "They are geographic areas that host 2 or more Availability Zones.  \n",
    "When you use them you have to think about:\n",
    "1. Latency optimization\n",
    "2. Costs optimization\n",
    "3. Regulatory Constrains (GDPR, ...)\n",
    "\n",
    "Regions are completely indipendent entities from each other. Services are not all available in all Regions. By default resources are not automatically replicated from one Region to another.\n",
    "\n",
    "#### Availability Zones\n",
    "AZ are collections of Data Centers in a specific Region. They are independent from each other, but are connected by a fast low-latency network.  \n",
    "They have an uninterruptible power supply, onsite backup generators, cooling equipments and network facilities.\n",
    "They ensure high availability and data redundancy within a Region.\n",
    "\n",
    "#### Edge Locations\n",
    "[EL](https://aws.amazon.com/cloudfront/features/?nc1=h_ls) host Content Delivery Networks, called AWS CloudFront. It acts as a caching system in order to mantain a reliable, low latency and high throughput network connectivity."
   ]
  },
  {
   "cell_type": "markdown",
   "metadata": {},
   "source": [
    "### [<div id='vpc'>VPC (Virtual Private Cloud)</div>](https://aws.amazon.com/vpc/)\n",
    "VPC"
   ]
  },
  {
   "cell_type": "markdown",
   "metadata": {},
   "source": [
    "[Definition of VPC, Wikipedia](https://en.wikipedia.org/wiki/Virtual_private_cloud)\n",
    "\n",
    "> Amazon Virtual Private Cloud (Amazon VPC) is a service that lets you launch AWS resources in a logically isolated virtual network that you define. You have complete control over your virtual networking environment, including selection of your own IP address range, creation of subnets, and configuration of route tables and network gateways. You can use both IPv4 and IPv6 for most resources in your virtual private cloud, helping to ensure secure and easy access to resources and applications.\n",
    "\n",
    "* Lets you create a private network in the AWS cloud, using he same concepts as on-premise networking.\n",
    "* Allows complete control of network **configuration**, with the ability to isolate and expose resources inside VPC.\n",
    "* Offers several **layers of security** controls, thus the ability to allow and deny specific internet and internal traffic.\n",
    "* Other AWS services can be **deployied** into VPC, and have inherent security built into network.\n",
    "\n"
   ]
  },
  {
   "cell_type": "markdown",
   "metadata": {},
   "source": [
    "#### Features\n",
    "\n",
    "* High availability\n",
    "    * Multiple VPCs per account\n",
    "    * VPC is within a Region\n",
    "* Subnets\n",
    "    * Divide Amazon VPC\n",
    "    * SPan multiple AZs\n",
    "    * Public or Private\n",
    "* Route tables. Control traffic going out of the subnets\n",
    "* Internet Gateway (IGW). Allows access to the internet from AWS VPC\n",
    "* NAT Gateway. Allows private subnet resources to access internet\n",
    "* Network Access Control List (NACL). Control access to subnets, stateless."
   ]
  },
  {
   "cell_type": "markdown",
   "metadata": {},
   "source": [
    "#### Example\n",
    "\n",
    "1. Select a Region\n",
    "2. Create the VPC\n",
    "    * Define the IP space\n",
    "3. Create a Subnet\n",
    "    * Define the IP space"
   ]
  },
  {
   "cell_type": "markdown",
   "metadata": {
    "heading_collapsed": true
   },
   "source": [
    "### [<div id='security'>Security Groups</div>](https://docs.aws.amazon.com/vpc/latest/userguide/VPC_SecurityGroups.html)\n",
    "Firewall - access to the instance"
   ]
  },
  {
   "cell_type": "markdown",
   "metadata": {
    "hidden": true
   },
   "source": [
    ">A security group acts as a virtual firewall for your instance to control inbound and outbound traffic. When you launch an instance in a VPC, you can assign up to five security groups to the instance. Security groups act at the instance level, not the subnet level. Therefore, each instance in a subnet in your VPC can be assigned to a different set of security groups.\n",
    "\n",
    "* Provide virtual firewalls\n",
    "* Control access to instances through rules"
   ]
  },
  {
   "cell_type": "markdown",
   "metadata": {
    "hidden": true
   },
   "source": [
    "<img src='./imgs/security-diagram.png' width=300>"
   ]
  },
  {
   "cell_type": "markdown",
   "metadata": {
    "hidden": true
   },
   "source": [
    "* When you create a new security group, it has no inbound rules. Therefore, no inbound traffic originating from another host to your instance is allowed until you add inbound rules to the security group.\n",
    "* By default, a security group includes an outbound rule that allows all outbound traffic. You can remove the rule and add outbound rules that allow specific outbound traffic only. If your security group has no outbound rules, no outbound traffic originating from your instance is allowed.\n",
    "* Instances associated with a security group can't talk to each other unless you add rules allowing the traffic (exception: the default security group has these rules by default)."
   ]
  },
  {
   "cell_type": "markdown",
   "metadata": {},
   "source": [
    "## <div id='services'>[Integrated services](https://www.aws.training/Details/eLearning?id=29701)</div>"
   ]
  },
  {
   "cell_type": "markdown",
   "metadata": {},
   "source": [
    "Before to start, few words are worth to be spent on basics nouns that will be used inside these notes.  \n",
    "\n",
    "* [AWS **EC2**](https://aws.amazon.com/it/ec2/?ec2-whats-new.sort-by=item.additionalFields.postDateTime&ec2-whats-new.sort-order=desc). An elastic virtual computing web service. You can launch instances and run OSs on them. \n",
    "* [Load Balancing](https://en.wikipedia.org/wiki/Load_balancing_(computing)). Load balancing refers to the process of distributing a set of tasks over a set of resources (computing units), with the aim of making their overall processing more efficient. Load balancing techniques can optimize the response time for each task, avoiding unevenly overloading compute nodes while other compute nodes are left idle.\n",
    "* [Edge Computing](https://en.wikipedia.org/wiki/Edge_computing). Edge computing is a distributed computing paradigm that brings computation and data storage closer to the location where it is needed, to improve response times and save bandwidth. Modern edge computing significantly extends this approach through virtualization technology that makes it easier to deploy and run a wider range of applications on the edge servers. \n",
    ">Any type of computer program that delivers low latency nearer to the requests.[Arabi K.]\n",
    "* [CDN](https://en.wikipedia.org/wiki/Content_delivery_network). *A content delivery network, or content distribution network (CDN), is a geographically distributed network of proxy servers and their data centers. The goal is to provide high availability and performance by distributing the service spatially relative to end users (...) alleviating the performance bottlenecks of the Internet.*\n",
    "* [RTMP](https://en.wikipedia.org/wiki/Real-Time_Messaging_Protocol). *Real-Time Messaging Protocol is a TCP-based protocol which maintains persistent connections and allows low-latency communication. To deliver streams smoothly and transmit as much information as possible, it splits streams into fragments, and their size is negotiated dynamically between the client and server. Fragments from different streams may then be interleaved, and multiplexed over a single connection.* Data can even travel through HTTP, by the [HTTP tunneling](https://en.wikipedia.org/wiki/Real-Time_Messaging_Protocol#HTTP_tunneling)."
   ]
  },
  {
   "cell_type": "markdown",
   "metadata": {},
   "source": [
    "### [<div id='lbalancer'>Elastic Load Balancer</div>](https://aws.amazon.com/elasticloadbalancing/)"
   ]
  },
  {
   "cell_type": "markdown",
   "metadata": {},
   "source": [
    "You have an application composed of individual services.  \n",
    "You need to route a request to a service based on the content of the request. Which service should you use?  \n",
    "Elastic Load Balancer."
   ]
  },
  {
   "cell_type": "markdown",
   "metadata": {
    "heading_collapsed": true
   },
   "source": [
    "#### [<div id='application_lbalancer'>Application Load Balancer</div>](https://aws.amazon.com/elasticloadbalancing/application-load-balancer/)\n",
    "lev7 - HTTP"
   ]
  },
  {
   "cell_type": "markdown",
   "metadata": {
    "hidden": true
   },
   "source": [
    ">Application Load Balancer operates at the request level (layer 7), routing traffic to targets (EC2 instances, containers, IP addresses, and Lambda functions) based on the content of the request. Ideal for advanced load balancing of **HTTP and HTTPS traffic**, Application Load Balancer provides advanced request routing targeted at delivery of modern application architectures, including microservices and container-based applications. Application Load Balancer simplifies and improves the security of your application, by ensuring that the latest SSL/TLS ciphers and protocols are used at all times"
   ]
  },
  {
   "cell_type": "markdown",
   "metadata": {},
   "source": [
    "### [<div id='autoscaling'>Auto scaling</div>](https://aws.amazon.com/about-aws/whats-new/2018/01/introducing-aws-auto-scaling/?nc1=h_ls)\n",
    "\n",
    "> AWS Auto Scaling monitors your applications and automatically adjusts capacity to maintain steady, predictable performance at the lowest possible cost. Using AWS Auto Scaling, you can setup scaling for multiple resources across multiple services in minutes. AWS Auto Scaling provides a simple, powerful user interface that lets you build scaling plans for Amazon EC2 instances and Spot Fleets, Amazon ECS tasks, Amazon DynamoDB tables, and Amazon Aurora Replicas.(...) AWS Auto Scaling makes scaling simple with recommendations that allow you to optimize performance, costs, or balance between them.(...)There is no additional charge for AWS Auto Scaling. You pay only for the AWS resources needed to run your applications and Amazon CloudWatch monitoring fees."
   ]
  },
  {
   "cell_type": "markdown",
   "metadata": {},
   "source": [
    "### <div id='route53'>[Amazon Route 53](https://aws.amazon.com/it/route53/)</div>\n",
    "(DNS)"
   ]
  },
  {
   "cell_type": "markdown",
   "metadata": {},
   "source": [
    "[Route53 Concepts](https://docs.aws.amazon.com/Route53/latest/DeveloperGuide/route-53-concepts.html#route-53-concepts-hosted-zone)\n",
    "\n",
    ">Amazon Route 53 is a highly available and scalable cloud Domain Name System (DNS) web service.\n",
    "\n",
    "It allows you to register, resolve and manage DNS names, organized in [Hosted Zones](https://docs.aws.amazon.com/Route53/latest/DeveloperGuide/route-53-concepts.html#route-53-concepts-hosted-zone).\n",
    "\n",
    "How it works?  \n",
    "#### Example.  \n",
    "1. A user opens his browser and types the address \"www.example.com\", and press Return.\n",
    "2. A ISP (Internet Service Provider) looks for such address in a table called DNS, where it finds a correspondence to a specific address number, like \"000.000.000.000\", and routes the request to this target address.\n",
    "\n",
    "If you use AWS Route S3, the requests to your domain will be sent to Route S3, which in turn will route them to your specified targets.\n",
    "\n",
    "It offers many DNS Resolution Strategies."
   ]
  },
  {
   "cell_type": "markdown",
   "metadata": {},
   "source": [
    "Check the [faqs](https://aws.amazon.com/route53/faqs/), to answer questions like:\n",
    "* What is the difference between a Domain and a Hosted Zone?"
   ]
  },
  {
   "cell_type": "markdown",
   "metadata": {},
   "source": [
    "#### Typical usage"
   ]
  },
  {
   "cell_type": "markdown",
   "metadata": {},
   "source": [
    "Before: your EC2 adress (for example) \"52.90.65.52\" resolve a home page hosted there, saying \"Hello world\".  \n",
    "After: you open \"www.example.com\" and you get your same page \"Hello world\". If you run in a terminal ```$nslookup www.example.com``` you'll see the answer pointing to \"52.90.65.52\".\n",
    "\n",
    "\n",
    "1. Create a Hosted Zone. It can be Internal or External. Internal HZ are used by your AWS to communicate to each other and is not accessible from the outside. External HZ are accessible from the outside.\n",
    "    1. Define the domain name (it can be either one externally bought, or you one you can buy from AWS).\n",
    "    2. After creation you will see you HZ set of addresses.\n",
    "2. You can create a Record Set. It will comprehend your subdomains.\n",
    "    1. Specify wether it will be \"www\" or another subdomain.\n",
    "    2. Specify the Server address in the *Value* field. If you are using a EC2 instance, then you'll use its IPv4 address. You can specify multiply addresses as well."
   ]
  },
  {
   "cell_type": "markdown",
   "metadata": {
    "heading_collapsed": true
   },
   "source": [
    "### <div id='rds'>[Amazon RDS (Relational Database Services)](https://aws.amazon.com/rds/?nc1=h_ls)</div>\n",
    "(DBMS)"
   ]
  },
  {
   "cell_type": "markdown",
   "metadata": {
    "hidden": true
   },
   "source": [
    "> Amazon RDS is a managed relational database service that provides you six familiar database engines to choose from. (...)Amazon RDS handles routine database tasks such as provisioning, patching, backup, recovery, failure detection, and repair.(...)Amazon RDS makes it easy to use replication to enhance availability and reliability for production workloads.  \n",
    "Using the *Multi-AZ* deployment option, you can run mission-critical workloads with high availability and built-in automated fail-over from your primary database to a synchronously replicated secondary database.  \n",
    "Using *Read Replicas*, you can scale out beyond the capacity of a single database deployment for read-heavy database workloads.\n",
    "\n"
   ]
  },
  {
   "cell_type": "markdown",
   "metadata": {
    "hidden": true
   },
   "source": [
    "> The basic building block of Amazon RDS is the [DB instance](https://docs.aws.amazon.com/AmazonRDS/latest/UserGuide/Welcome.html#Welcome.Concepts.DBInstance). A DB instance is an isolated database environment in the AWS Cloud. Your DB instance can contain multiple user-created databases.\n",
    "\n",
    "It is characterized by:\n",
    "* [DB Instance *Class*](https://docs.aws.amazon.com/AmazonRDS/latest/UserGuide/Concepts.DBInstanceClass.html). It \"determines the computation and memory capacity of an Amazon RDS DB instance. The DB instance class you need depends on your processing power and memory requirements.\".\n",
    "* [DB Instance *Storage*](https://docs.aws.amazon.com/AmazonRDS/latest/UserGuide/CHAP_Storage.html). It determines the type of disks you'll use.\n",
    "\n",
    "\n",
    "* [Multi-AZ](https://docs.aws.amazon.com/AmazonRDS/latest/UserGuide/Concepts.MultiAZ.html)  \n",
    "High availability, prevents system failures and services disruptions, having multiple DBs in stand-by, synchronized, to be turned on as back-up whenerver it's needed.  \n",
    "* [*Read replicas*](https://docs.aws.amazon.com/AmazonRDS/latest/UserGuide/USER_ReadRepl.html).\n",
    "\n",
    "<img src='imgs/rds_multiaz.png'></img>\n",
    "\n",
    "It is high throughtput and recommended for OLTP.\n",
    "\n",
    "<img src='imgs/rds_usecases.png'></img>\n",
    "\n"
   ]
  },
  {
   "cell_type": "markdown",
   "metadata": {
    "heading_collapsed": true
   },
   "source": [
    "### <div id='lambda'>[Lambda](https://aws.amazon.com/lambda/?nc1=h_ls)</div>\n",
    "(Serverless)"
   ]
  },
  {
   "cell_type": "markdown",
   "metadata": {
    "hidden": true
   },
   "source": [
    ">AWS Lambda is a serverless compute service that runs your code in response to events and automatically manages the underlying compute resources for you.\n",
    "\n",
    "It performs event-driven execution, it's stateless, thus it's rapidly available for scaling and supports multiple languages.\n",
    "\n",
    "It can be used virtually with all services and all environments."
   ]
  },
  {
   "cell_type": "markdown",
   "metadata": {
    "ExecuteTime": {
     "end_time": "2021-01-23T18:35:42.292688Z",
     "start_time": "2021-01-23T18:35:42.287742Z"
    },
    "hidden": true
   },
   "source": [
    "#### Example of use\n",
    "\n",
    "1. AWS Console -> AWS Services -> Compute -> Lambda\n",
    "2. Create a Function\n",
    "    1. (\"Configuration\" tab opened)\n",
    "        1. Write a name\n",
    "        2. Choose a runtime (Python, NodeJS,..)\n",
    "        3. Write a handler info\n",
    "        4. Eventually define env variables\n",
    "    2. Configure the triggers (\"Triggers\" tab)\n",
    "    3. Monitor its usage (\"Monitoring\" tab)"
   ]
  },
  {
   "cell_type": "markdown",
   "metadata": {
    "heading_collapsed": true,
    "hidden": true
   },
   "source": [
    "#### Use cases"
   ]
  },
  {
   "cell_type": "markdown",
   "metadata": {
    "hidden": true
   },
   "source": [
    "##### Example1, image-recognition app.  \n",
    "<img src='imgs/lambda_ex1.png'></img>"
   ]
  },
  {
   "cell_type": "markdown",
   "metadata": {
    "hidden": true
   },
   "source": [
    "##### Example2, real-time image processing  \n",
    "<img src='imgs/lambda_ex2.png' width=\"400\"></img>"
   ]
  },
  {
   "cell_type": "markdown",
   "metadata": {
    "hidden": true
   },
   "source": [
    "##### Example3, real-time stream processing\n",
    "<img src='imgs/lambda_ex3.png' width=\"400\"></img>"
   ]
  },
  {
   "cell_type": "markdown",
   "metadata": {
    "hidden": true
   },
   "source": [
    "##### Example4, real-time stream processing\n",
    "<img src='imgs/lambda_ex4.png' width=\"400\"></img>"
   ]
  },
  {
   "cell_type": "markdown",
   "metadata": {
    "hidden": true
   },
   "source": [
    "##### Example5, IoT Backends\n",
    "<img src='imgs/lambda_ex5.png' width=\"400\"></img>"
   ]
  },
  {
   "cell_type": "markdown",
   "metadata": {
    "hidden": true
   },
   "source": [
    "##### Example6, real-time stream processing\n",
    "<img src='imgs/lambda_ex6.png' width=\"400\"></img>"
   ]
  },
  {
   "cell_type": "markdown",
   "metadata": {},
   "source": [
    "### <div id='elastic_beanstalk'>[Elastic Beanstalk](https://aws.amazon.com/elasticbeanstalk/)</div>\n",
    "(Deployer), [PaaS](https://en.wikipedia.org/wiki/Platform_as_a_service)"
   ]
  },
  {
   "cell_type": "markdown",
   "metadata": {},
   "source": [
    ">AWS Elastic Beanstalk is an easy-to-use service for deploying and scaling web applications and services developed with Java, .NET, PHP, Node.js, Python, Ruby, Go, and Docker on familiar servers such as Apache, Nginx, Passenger, and IIS.(...)You can simply upload your code and Elastic Beanstalk automatically handles the deployment, from capacity provisioning, load balancing, auto-scaling to application health monitoring. At the same time, you retain full control over the AWS resources powering your application and can access the underlying resources at any time."
   ]
  },
  {
   "cell_type": "markdown",
   "metadata": {},
   "source": [
    "#### Example of use\n",
    "1. AWS Console -> AWS Services -> Compute -> Elastic Beanstalk\n",
    "2. Create New Application\n",
    "    1. Enter a name and description\n",
    "3. Create an environment\n",
    "    1. Choose between a *Web server environment* or *Worker environment*. The latter is more suitable for long-running workloads or task performed on schedules.\n",
    "    2. Choose a Platform (NodeJS, Python,..)\n",
    "4. Upload your code\n"
   ]
  },
  {
   "cell_type": "markdown",
   "metadata": {},
   "source": [
    "[Here](https://aws.amazon.com/getting-started/hands-on/deploy-app-command-line-elastic-beanstalk/) a practical getting started."
   ]
  },
  {
   "cell_type": "markdown",
   "metadata": {
    "heading_collapsed": true
   },
   "source": [
    "### <div id='SNS'>[SNS (Simple Notification Service)](https://docs.aws.amazon.com/sns/latest/dg/welcome.html)</div>"
   ]
  },
  {
   "cell_type": "markdown",
   "metadata": {
    "hidden": true
   },
   "source": [
    ">Amazon Simple Notification Service (Amazon SNS) is a fully managed messaging service for both application-to-application (A2A) and application-to-person (A2P) communication.\n",
    "The A2A pub/sub functionality provides topics for high-throughput, push-based, many-to-many messaging between distributed systems, microservices, and event-driven serverless applications. Using Amazon SNS topics, your publisher systems can fanout messages to a large number of subscriber systems including Amazon SQS queues, AWS Lambda functions and HTTPS endpoints, for parallel processing, and Amazon Kinesis Data Firehose. The A2P functionality enables you to send messages to users at scale via SMS, mobile push, and email."
   ]
  },
  {
   "cell_type": "markdown",
   "metadata": {
    "hidden": true
   },
   "source": [
    "You can use it for both:\n",
    "* System decoupling\n",
    "+ User communications"
   ]
  },
  {
   "cell_type": "markdown",
   "metadata": {
    "hidden": true
   },
   "source": [
    "[SNS Tutorial](https://aws.amazon.com/getting-started/hands-on/filter-messages-published-to-topics/)"
   ]
  },
  {
   "cell_type": "markdown",
   "metadata": {
    "hidden": true
   },
   "source": [
    "##### [How it works](https://aws.amazon.com/sns/#How_it_works), Diagrams"
   ]
  },
  {
   "cell_type": "markdown",
   "metadata": {
    "hidden": true
   },
   "source": [
    "Pub/Sub"
   ]
  },
  {
   "cell_type": "markdown",
   "metadata": {
    "hidden": true
   },
   "source": [
    "<img src='./imgs/sns_pubsub.png'></img>"
   ]
  },
  {
   "cell_type": "markdown",
   "metadata": {
    "hidden": true
   },
   "source": [
    "SMS"
   ]
  },
  {
   "cell_type": "markdown",
   "metadata": {
    "ExecuteTime": {
     "end_time": "2021-03-06T08:37:34.690053Z",
     "start_time": "2021-03-06T08:37:34.686738Z"
    },
    "hidden": true
   },
   "source": [
    "<img src='./imgs/sns_sms.png'></img>"
   ]
  },
  {
   "cell_type": "markdown",
   "metadata": {
    "hidden": true
   },
   "source": [
    "Mobile Push"
   ]
  },
  {
   "cell_type": "markdown",
   "metadata": {
    "hidden": true
   },
   "source": [
    "<img src='./imgs/sns_push.png'></img>"
   ]
  },
  {
   "cell_type": "markdown",
   "metadata": {
    "heading_collapsed": true
   },
   "source": [
    "### <div id='cloudwatch'>[CloudWatch](https://aws.amazon.com/cloudwatch/)</div>\n",
    "(Log) Monitoring"
   ]
  },
  {
   "cell_type": "markdown",
   "metadata": {
    "hidden": true
   },
   "source": [
    ">Amazon CloudWatch is a monitoring and observability service built for DevOps engineers, developers, site reliability engineers (SREs), and IT managers. CloudWatch provides you with data and actionable insights to monitor your applications, respond to system-wide performance changes, optimize resource utilization, and get a unified view of operational health. CloudWatch collects monitoring and operational data in the form of logs, metrics, and events, providing you with a unified view of AWS resources, applications, and services that run on AWS and on-premises servers. You can use CloudWatch to detect anomalous behavior in your environments, set alarms, visualize logs and metrics side by side, take automated actions, troubleshoot issues, and discover insights to keep your applications\n",
    "running smoothly."
   ]
  },
  {
   "cell_type": "markdown",
   "metadata": {
    "hidden": true
   },
   "source": [
    "It can:\n",
    "1. **Collect** and **track** metrics\n",
    "2. Collect and monitor **log** files\n",
    "3. Set alarms\n",
    "4. Automatically **react** to changes\n",
    "5. Create customized views and [**dashboards**](https://docs.aws.amazon.com/AmazonCloudWatch/latest/APIReference/API_PutDashboard.html) of your custom metrics"
   ]
  },
  {
   "cell_type": "markdown",
   "metadata": {
    "heading_collapsed": true
   },
   "source": [
    "### <div id='cloudfront'>[CloudFront](https://aws.amazon.com/cloudfront/)</div>\n",
    "(CDN) Local caching"
   ]
  },
  {
   "cell_type": "markdown",
   "metadata": {
    "hidden": true
   },
   "source": [
    ">Amazon CloudFront is a fast content delivery network (CDN) service that securely delivers data, videos, applications, and APIs to customers globally with low latency, high transfer speeds, all within a developer-friendly environment."
   ]
  },
  {
   "cell_type": "markdown",
   "metadata": {
    "hidden": true
   },
   "source": [
    "Global, secure, performant, integrate in AWS. [Tutorial](https://docs.aws.amazon.com/AmazonCloudFront/latest/DeveloperGuide/GettingStarted.html).\n",
    "\n"
   ]
  },
  {
   "cell_type": "markdown",
   "metadata": {
    "hidden": true
   },
   "source": [
    "Use example:\n",
    "1. \n",
    "2. Specify at least:\n",
    "    * 1 Origin (e.g. S3)\n",
    "    * 1 behavior. It matches what is the URL pattern you want to associate with the origin."
   ]
  },
  {
   "cell_type": "markdown",
   "metadata": {
    "hidden": true
   },
   "source": [
    "Use cases:\n",
    "* Static Asset Caching\n",
    "* Live on-demand video streaming\n",
    "* Security and DDoS protection\n",
    "* Dynamic Content\n",
    "* API Acceleration\n",
    "* Software Distribution\n"
   ]
  },
  {
   "cell_type": "markdown",
   "metadata": {
    "hidden": true
   },
   "source": [
    "Example:\n",
    "1. Access your running EC2, located far away, console\n",
    "2. connect by CLI to it\n",
    "3. Run in terminal ```$cd /Var/log/httpd```; ```$ls```.\n",
    "4. ```$tail -f access_log``` will show my access log.\n",
    "    * If you go to my EC2 adress from a browser, you'll see a new entry in *access_log* file.\n",
    "    * Opening Dev Tools->Network, everytime you make a request you'll see your response latency, that is expected to be high, being the server far away from you (the source of the request). Keep going in order to improve it.\n",
    "5. Create a new CloudFront Distribution\n",
    "    1. Specify your EC2 address as Origin\n",
    "    2. Specify a single behavior, e.g. ```(*)```, that you'll see appearing in the *Path Pattern* column.\n",
    "    3. Obtain the *Domain Name* of the CloudFront Distribution (*General* tab) and the *Alternate Domain Name (CNAME)*, or \"cdn.\" address. E.g. cdn.example.net .\n",
    "6. Go to your \"cdn.\" name, e.g. \"cdn.example.com\", from your browser.\n",
    "    2. Check your request latency and see now is much faster then before.\n",
    "    1. Check again your EC2 ```access_log``` and you'll see no new entries there. That's because CloudFront has *cached* it.\n",
    "7. AVAILABILITY. CloudFront helps your content availability.\n",
    "    1. Run in CLI ```$sudo service httpd stop```, in order to stop your EC2.\n",
    "    2. Access again to \"cdn.\" address and see it's still available."
   ]
  },
  {
   "cell_type": "markdown",
   "metadata": {
    "hidden": true
   },
   "source": [
    "Which of the following statement best describes Amazon CloudFront?\n",
    "Speeds up the delivery of your content to viewers across the globe."
   ]
  },
  {
   "cell_type": "markdown",
   "metadata": {
    "heading_collapsed": true
   },
   "source": [
    "### <div id='cloudformation'>[CloudFormation](https://aws.amazon.com/cloudformation/)</div>\n",
    "(IaaS)"
   ]
  },
  {
   "cell_type": "markdown",
   "metadata": {
    "hidden": true
   },
   "source": [
    ">AWS CloudFormation gives you an easy way to model a collection of related AWS and third-party resources (...)  by treating infrastructure as code.\n",
    "\n",
    "> It simplifies the task of repeatedly and predictably creating groups of related resources that power your applications. (...)It's all about automation of resources provisioning."
   ]
  },
  {
   "cell_type": "markdown",
   "metadata": {
    "hidden": true
   },
   "source": [
    "It is a fully-managed service that allows to: create, update and delete resources in *stacks*. It also allows to use templates in order to create environments. [Tutorial](https://docs.aws.amazon.com/AWSCloudFormation/latest/UserGuide/GettingStarted.Walkthrough.html).\n",
    "\n",
    "#### How it works:\n",
    "1. A [Template File](https://aws.amazon.com/cloudformation/resources/templates/) is provided to AWS CloudFormation\n",
    "2. AWS CloudFormation constructs the resources declared in the Template File and puts them in a [*Stack*](https://docs.aws.amazon.com/AWSCloudFormation/latest/UserGuide/stacks.html) environment.\n",
    "3. You interact with your cloud service like any other services (e.g. by CLI).\n",
    "\n",
    "#### Stacks\n",
    "Each Stack is a unity of deployment.  \n",
    "When you Delete a Stack AWS destroys all the associated instances and resources.  \n",
    "You can eventually create stacks of Stacks, each dedicated to a specific functionality of the service.\n",
    "\n",
    "#### IaaS\n",
    "You can collect templates by functionalities, and even have versions of them.\n",
    "<img src='./imgs/cloudformation_1.png' width='400'></div>"
   ]
  },
  {
   "cell_type": "markdown",
   "metadata": {
    "hidden": true
   },
   "source": [
    "#### Requirements\n",
    "\n",
    "* Templates. If something fails, CF will rollback every objects created.\n",
    "* Permissions. In order to process a Template, every elements declared in it mus have the right permissions to be processed."
   ]
  },
  {
   "cell_type": "markdown",
   "metadata": {
    "hidden": true
   },
   "source": [
    "#### Demo\n",
    "[Tutorial](https://docs.aws.amazon.com/AWSCloudFormation/latest/UserGuide/GettingStarted.Walkthrough.html).\n",
    "\n",
    "1. Open CF via Management Console -> Create a new Stack.\n",
    "2. Open CF Designer\n",
    "3. Create a New Template\n",
    "    1. Add entries to create a new VPC to the template\n",
    "        1. EC2->VPC \n",
    "5. Create a new Stack using the new template\n",
    "6. Vie the new VPC resource"
   ]
  },
  {
   "cell_type": "markdown",
   "metadata": {},
   "source": [
    "## [<div id='aws_architecture'>AWS Architecture</div>](https://aws.amazon.com/architecture/)"
   ]
  },
  {
   "cell_type": "markdown",
   "metadata": {},
   "source": [
    "Focuses on fault tolerance and availability"
   ]
  },
  {
   "cell_type": "markdown",
   "metadata": {},
   "source": [
    "### <div id='arch_framework'>Well-Architected Framework</div>"
   ]
  },
  {
   "cell_type": "markdown",
   "metadata": {},
   "source": [
    "It's the result of a careful analysis by the AWS engineers on customers case studies.\n",
    "\n",
    "It relies on 5 pillars:\n",
    "* Security\n",
    "* Reliability\n",
    "* Performance efficiency\n",
    "* Cost optimization\n",
    "* Operational excellence"
   ]
  },
  {
   "cell_type": "markdown",
   "metadata": {
    "heading_collapsed": true
   },
   "source": [
    "#### [Security](https://docs.aws.amazon.com/wellarchitected/latest/security-pillar/welcome.html)"
   ]
  },
  {
   "cell_type": "markdown",
   "metadata": {
    "hidden": true
   },
   "source": [
    "Risk assessment and mitigation strategies\n",
    "\n",
    "relies on:\n",
    "* IAM (Identity and access management). Only authorized and authenticated users have access.\n",
    "* Detective controls. Capturing potential issues, from logs and other else.\n",
    "* Infrastructure Protection. (e.g. keys and firewalls)\n",
    "* Data protection. (e.g. beta classification, encryption, backup, replication, recovery)\n",
    "* Incident response.\n",
    "\n",
    "##### Design Principles\n",
    "* Implement security at **all** layers\n",
    "* Enable traceability.\n",
    "* Apply principle of least priviledge. \n",
    "* Focus on securing your system. (e.g. AWS shared security model)\n",
    "* Automate.\n"
   ]
  },
  {
   "cell_type": "markdown",
   "metadata": {
    "ExecuteTime": {
     "end_time": "2021-01-25T17:18:54.552276Z",
     "start_time": "2021-01-25T17:18:54.549402Z"
    },
    "heading_collapsed": true
   },
   "source": [
    "#### [Reliability](https://docs.aws.amazon.com/wellarchitected/latest/reliability-pillar/welcome.html)"
   ]
  },
  {
   "cell_type": "markdown",
   "metadata": {
    "hidden": true
   },
   "source": [
    "Ability to recover from infrastructure or server failures, dynamically acquire the needed resources, in order to meet demand\n",
    "\n",
    "##### Design Principles\n",
    "\n",
    "Best Practices apply in:\n",
    "* Foundations (e.g. good resources, auto-healing,..)\n",
    "* Change Management (eventually replace a system quickly)\n",
    "* Failure management\n",
    "\n",
    "Principles:\n",
    "* Test recovery procedures\n",
    "* Automatically recover\n",
    "* Scale horizontally. Sometimes you neet to rescale to multiple smaller instances (reducing the instance size) instead of a bigger singular one.\n",
    "* Stop guessing capacity. \n",
    "* Manage change in automation"
   ]
  },
  {
   "cell_type": "markdown",
   "metadata": {
    "heading_collapsed": true
   },
   "source": [
    "#### [Performance efficiency](https://docs.aws.amazon.com/wellarchitected/latest/performance-efficiency-pillar/welcome.html)"
   ]
  },
  {
   "cell_type": "markdown",
   "metadata": {
    "hidden": true
   },
   "source": [
    "All is about:\n",
    "* **Select** customizable solutions\n",
    "* **Review** to continually innovate\n",
    "* **Monitor** AWS services\n",
    "* **Consider** the trade-offs. E.g. consistency, durability, space vs time/latency on delivery.\n",
    "\n",
    "Principles:\n",
    "* Democratize advanced technologies\n",
    "* Go global in minutes\n",
    "* Use a serverless architecture\n",
    "* Experiment more often\n",
    "* Have mechanical sympathy. Use the technological approach that best aligns with your goal to achieve."
   ]
  },
  {
   "cell_type": "markdown",
   "metadata": {
    "heading_collapsed": true
   },
   "source": [
    "#### [Cost Optimization](https://docs.aws.amazon.com/wellarchitected/latest/cost-optimization-pillar/welcome.html)"
   ]
  },
  {
   "cell_type": "markdown",
   "metadata": {
    "hidden": true
   },
   "source": [
    "The continous refinement of your system throughout its entire life cycle.\n",
    "You can maximize you ROI\n",
    "\n",
    "Areas:\n",
    "* Use cost-effective resources\n",
    "* Matching supply with demand\n",
    "* Increase **expenditure awareness**\n",
    "* Optimize over time\n",
    "\n",
    "Principles:\n",
    "* Adopt a consumption model\n",
    "* Measure overall efficiency. You'll use such data for later improvements.\n",
    "* Reduce spending on (physical) data center operations.\n",
    "* Analyze and attribute expenditure\n",
    "* Use managed services. Reduce costs of ownership."
   ]
  },
  {
   "cell_type": "markdown",
   "metadata": {
    "heading_collapsed": true
   },
   "source": [
    "#### [Operational Excellence](https://docs.aws.amazon.com/wellarchitected/latest/operational-excellence-pillar/welcome.html) "
   ]
  },
  {
   "cell_type": "markdown",
   "metadata": {
    "hidden": true
   },
   "source": [
    "Focuses on running and monitoring processes in order to deliver business values in continously improving.\n",
    "\n",
    "Key ideas:\n",
    "* Manage and **automate** changes\n",
    "* Respond to events\n",
    "* Define the standards"
   ]
  },
  {
   "cell_type": "markdown",
   "metadata": {},
   "source": [
    "### [<div id='arch_fault_availability'>Fault Tolerance and High Availability</div>](https://docs.aws.amazon.com/whitepapers/latest/fault-tolerant-components/building-architectures-to-achieve-high-availability.html)"
   ]
  },
  {
   "cell_type": "markdown",
   "metadata": {},
   "source": [
    "FT:\n",
    "* Ability of a system to remain operational\n",
    "* Built-in **redundancy** of an application's components\n",
    "\n",
    "HA (ensures that):\n",
    "* System are generally functioning and accessible\n",
    "* **Downtime** is minimized\n",
    "* **Minimal human** intervention is required\n",
    "* Minimal up-front financial investment"
   ]
  },
  {
   "cell_type": "markdown",
   "metadata": {
    "heading_collapsed": true
   },
   "source": [
    "##### HA: On premises vs AWS\n",
    "\n",
    "Traditional:\n",
    "* Expensive\n",
    "* Only mission-critical applications\n",
    "\n",
    "AWS:\n",
    "* Multiple servers\n",
    "* Availability zones\n",
    "* Regions\n",
    "* Fault-tolerant services\n",
    "\n",
    "##### HA Service Tools\n",
    "* Elastic Load Balancers.\n",
    "    * Ditribute traffic load among instances.\n",
    "    * Sends metrics to CloudWatch\n",
    "    * Triggers/notify\n",
    "        * High latency\n",
    "        * Over utilization\n",
    "* Elastic IP addresses\n",
    "    * Are static IP addresses\n",
    "    * Mask failures (replacing failing resources)\n",
    "    * Continoues to access applications if an instance fails\n",
    "* Route 53\n",
    "    * Authorative DNS service. Translates the domain addresses to IP addresses.\n",
    "    * Supports:\n",
    "        * Simple routing\n",
    "        * Latency-based routing\n",
    "        * Health checks\n",
    "        * DNS failovers\n",
    "        * Geo-location routing\n",
    "* Auto Scaling\n",
    "    * Terminates and launches instances, based on specific conditions\n",
    "    * Assists with adjusting or modifying capacity\n",
    "    * Creates new resources on demand. No manual intervention required.\n",
    "* CloudWatch\n",
    "    * Distributed statistics gathering system\n",
    "    * Tracks your metrics of your infrastructure\n",
    "    * Create and use your own custom metrics\n",
    "    * Used with Auto Scaling, in order to trigger adapting behaviors\n",
    "    \n",
    "    \n",
    "##### Fault Tolerant Tools\n",
    "* Simple Queue Service (SQS)\n",
    "* Simple Storage Service (S3)\n",
    "* Relational Database Service (RDS)"
   ]
  },
  {
   "cell_type": "markdown",
   "metadata": {},
   "source": [
    "### [<div id='arch_webhosting'>Web Hosting</div>](https://aws.amazon.com/it/websites/)"
   ]
  },
  {
   "cell_type": "markdown",
   "metadata": {},
   "source": [
    "Interacts with all AWS services.\n",
    "\n",
    "You can use on-demand services in order to overcome traffic peaks. This way you can have scalability and reliabiity.\n",
    "\n",
    "You can switch between production, testing, or development environment with ease, being free to not have a constant running testing environment."
   ]
  },
  {
   "cell_type": "markdown",
   "metadata": {},
   "source": [
    "## [<div id='awsSecurity'>Security</div>](https://aws.amazon.com/security/?nc1=h_ls)"
   ]
  },
  {
   "cell_type": "markdown",
   "metadata": {},
   "source": [
    "AWS infrastructure is resilient and highly secure, with tools for secure detection. Security has pay-per-use, namely, the more demanding the more you pay, helping to scale.\n",
    "It meets Compliance Requirements.  \n",
    "It use a AWS Shared Responsability model which uses layers of security, with parts able to inherit.\n",
    "It allows Network Security, through:\n",
    "* Built-in firewalls\n",
    "* encryption in transit\n",
    "* Private/dedicated connections\n",
    "* DDoS mitigation\n",
    "\n",
    "Inventory and Configuration Management contribute as well to the cause, letting you haveing complete control in managing changes in all processes.\n",
    "\n",
    "It implements Data Encryption:\n",
    "* Encryption capabilities\n",
    "* Key management options\n",
    "    * AWS Key Management Service\n",
    "* Hardware-based cryptographic key storage options\n",
    "    * AWS CloudHSM\n",
    "    \n",
    "You can easily define access and management user policy across services.\n",
    "* Identity and AccessManagement (IAM)\n",
    "* Multi-facor authentication (MFA)\n",
    "* Integration and federation with corporate directpries\n",
    "* Amazon Cognito\n",
    "* AWS SSO\n",
    "\n",
    "Monitoring and Logging.\n",
    "You can monitor every access by anybody anytime anywhere with tools and features to reduce your risk profile:\n",
    "* Deep visibility into API calls\n",
    "* Log aggregation and options\n",
    "* Alert notifications\n",
    "\n",
    "Lastly, AWS Marketplace  offers complete solutions, from qualified personnel, ready to be ran."
   ]
  },
  {
   "cell_type": "markdown",
   "metadata": {},
   "source": [
    "### [<div id='sec_SRM'>Shared Responsability Model</div>](https://aws.amazon.com/compliance/shared-responsibility-model/)"
   ]
  },
  {
   "cell_type": "markdown",
   "metadata": {},
   "source": [
    "AWS implements a security model shared with the user.\n",
    "It consists of 6 levels which are controlled by AWS or by the customer.\n",
    "The customer take responsbility of the levels he controls.\n",
    "\n",
    "Functionality levels:\n",
    "* User Data: User\n",
    "* Application; User\n",
    "* Guest OS : User. Here U select images and AWS has zero visiiblity in there. From this level to the top (User Data) AWS is completely blind to what happens. There's no way for AWS personnel to know anything here.\n",
    "* Hypervisor : AWS\n",
    "* Network : AWS\n",
    "* Physical : AWS\n",
    "It has a number of audits who confirm the high quality of security.\n"
   ]
  },
  {
   "cell_type": "markdown",
   "metadata": {},
   "source": [
    "<img src='./imgs/sec_SRM_model.png' width=500></img>"
   ]
  },
  {
   "cell_type": "markdown",
   "metadata": {},
   "source": [
    "### [<div id='sec_iam'>Identity and Access Management</div>](https://aws.amazon.com/iam/)"
   ]
  },
  {
   "cell_type": "markdown",
   "metadata": {},
   "source": [
    "(I love Blaine Sundrud exaplainations)\n",
    "\n",
    "It's developed around 4 concepts:\n",
    "* User. A permanent named operator. Could be human or machine. Its set of  credentials is supposed to be permanent. A user can belong to one or more Groups.\n",
    "* Group. A collection of Users.\n",
    "* Role. Authentication **method**, NOT permissions. It's an **operator**. Could be human or machine. Its credentials are temporary.\n",
    "* Policy Documents. Are JSONs attached to one of the previous entities (User, Group or Role). Lists the specific APIs allowed against which resources and conditions.\n",
    "\n",
    "User, Group and Role, are **Authentication** concern, while Policy Documents are **Authorization** concern.\n",
    "\n",
    "Everytime an action in a service is performed/triggered by an operator, IAM checks the operator credential, then it singularly checks into the policy documentations of the operator if it's allowed or not, then it lets it go or break the process.\n",
    "A **Deny** inside a Policy Document will overwrite any *Allow* statement.\n",
    "\n",
    "Example: I want to prevent that anyone could shut down a service.\n",
    "I can create a Policy that denies EC2 to stop.\n",
    "\n",
    "Having no Policy Documents corresponds to *Deny* everything.\n",
    "\n",
    "Example: Somebody steals my credentials.\n",
    "If you're using Admin User, but not root credentials, whoever will try to commit a dangerous operation will be stopped. Moreover, if you delete your Policy Documents, this will prevent any actions. They will be meticolously recorded though."
   ]
  },
  {
   "cell_type": "markdown",
   "metadata": {},
   "source": [
    "### [<div id='sec_inspector'>Inspector</div>](https://aws.amazon.com/inspector/)"
   ]
  },
  {
   "cell_type": "markdown",
   "metadata": {},
   "source": [
    "IT security challenge:\n",
    "* Complex\n",
    "* expensive\n",
    "* Time consuming - build/configure/mantain\n",
    "* Difficult to **track all** the changes in IT environment\n",
    "* Hard to do effectively"
   ]
  },
  {
   "cell_type": "markdown",
   "metadata": {},
   "source": [
    "Amazon Inspector automatically assesses applications for:\n",
    "* exposure,\n",
    "* vulnerabilities\n",
    "* deviations from best practices.\n",
    "After performing an assessment, Amazon Inspector produces a detailed list of security findings **prioritized** by level of severity and remediation.\n",
    "\n",
    "Amazon Inspector security assessments help you check for unintended network accessibility of your Amazon EC2 instances and for vulnerabilities on those EC2 instances. Amazon Inspector assessments are offered to you as pre-defined rules packages mapped to common security best practices and vulnerability definitions.Examples of built-in rules include checking for access to your EC2 instances from the internet, remote root login being enabled, or vulnerable software versions installed. These rules are regularly updated by AWS security researchers."
   ]
  },
  {
   "cell_type": "markdown",
   "metadata": {},
   "source": [
    "It is not guarantee that following the provided recommendations will resolve every potential security issue.\n",
    "\n",
    "Inspector benefits:\n",
    "* Identify application security issues\n",
    "* Integrate security into DevOps\n",
    "* Increase development agility\n",
    "* Leverage AWS security expertise (promoting best practices)\n",
    "* Streamline security compliance\n",
    "* Enforce security standards\n",
    "\n",
    "You can access to Inspector, not only by the typical 3 ways, but also by a HTTP API.\n",
    "\n",
    "Built-in rules\n",
    "* Includes a knowledge base with hundreds of rules that are mapped to:\n",
    "    * Common security compliance standards\n",
    "    * Vulnerability definitions\n",
    "* Regularly updated by AWS security researchers\n",
    "\n",
    "In summary, it offload deep security assessment of your AWS resources, so you can focus on more complex security issues."
   ]
  },
  {
   "cell_type": "markdown",
   "metadata": {},
   "source": [
    "### [<div id='sec_shield'>Shield</div>](https://aws.amazon.com/shield/)"
   ]
  },
  {
   "cell_type": "markdown",
   "metadata": {},
   "source": [
    ">AWS Shield is a managed Distributed Denial of Service (DDoS) protection service that safeguards applications running on AWS. AWS Shield provides always-on detection and automatic inline mitigations that minimize application downtime and latency, so there is no need to engage AWS Support to benefit from DDoS protection. There are two tiers of AWS Shield - Standard and Advanced.\n",
    "\n"
   ]
  },
  {
   "cell_type": "markdown",
   "metadata": {},
   "source": [
    "More at [How AWS Shield works](https://docs.aws.amazon.com/waf/latest/developerguide/ddos-overview.html).\n",
    "\n",
    "DoS: a deliberate attempt to make a website or application unavailable to users.  \n",
    "DDoS: multiple sources are used to attack target; infrastructure and application can be affected. It is tipically launched by a botnet which sends thounds requests at once, overloading the bandwidth and make it unavailable to other users in the meantime.\n",
    "\n",
    "##### DDoS mitigation challenges:\n",
    "* Complex setup and implementation\n",
    "* Bandwidth limitations\n",
    "* Manual intervention\n",
    "* Time consuming\n",
    "* Degraded performance\n",
    "* Expensive\n",
    "\n",
    "Shield offers two protection options: Standard and Advanced.\n",
    "\n",
    "##### Shield Standard  \n",
    "Automatic protections available for all AWS customers at no additional charge\n",
    "\n",
    "* Automatic protection over any AWS resource and region\n",
    "* Quick detection always on\n",
    "* **Inline** attack mitigation, with built-in mitigation techniques which avoid latency impact\n",
    "* Self service: you can provide your own rule in order to mitigate attacks.\n",
    "\n",
    "##### Shield Advanced  \n",
    "Paid service for higher levels of protection features, and benefits\n",
    "\n",
    "* 24/7 access to DDoS Response Team (DRT)\n",
    "* Assistence\n",
    "    * advanced attack mitigation\n",
    "    * visibility and attack notification\n",
    "    * always analyzing and monitoring through your resources usage and logs\n",
    "* integration with AWS WAF, a web application firewall\n",
    "    \n",
    "##### Benefits\n",
    "* Cost efficient\n",
    "* Seamless integration and deployment\n",
    "* **Customizable** protection\n",
    " \n",
    "##### [Adding protections to your services](https://docs.aws.amazon.com/waf/latest/developerguide/ddos-overview.html#ddos-advanced)\n",
    "* Route 53 (DNS):\n",
    "    * S St: hosted zones\n",
    "    * s Ad: attack visibility, DRT support\n",
    "* CloudFront or application Load Balancer (Load Balancer, lv. 3-4):\n",
    "    * S St: Always-on, scrubs bad traffic, reflection attacks\n",
    "    * S Ad: DRT support, traffic engineering, application layer protection\n",
    "* Elastic IP address:\n",
    "    * S St: Built-in techniques like *Priority based traffic shaping* \n",
    "    * S Ad: Automatically detect necessary resources to use in order to apply custom mitigation profiles, additional bandwidth.\n",
    "\n",
    "\n"
   ]
  },
  {
   "cell_type": "markdown",
   "metadata": {},
   "source": [
    "### [<div id='sec_compliance'>Security Compliance</div>](https://aws.amazon.com/compliance/)"
   ]
  },
  {
   "cell_type": "markdown",
   "metadata": {},
   "source": [
    "AWS shares security information by:\n",
    "* Obtain industry certifications\n",
    "* Publishing security and control practices\n",
    "* Compliance reports\n",
    "\n",
    "For its assurance programs, AWS provides compliance information and resources:\n",
    "* Certifications/attestations\n",
    "* Legal/regulatory support\n",
    "* Alignments/frameworks\n",
    "\n",
    "AWS regularly completed a variety of audits.\n",
    "\n",
    "This information helps the customer:\n",
    "* to document and completely control the governance framework\n",
    "* Deploy solutions that meet several industry-specific standards\n",
    "<img src='imgs/sec_compl_1.png' width='150'></img>"
   ]
  },
  {
   "cell_type": "markdown",
   "metadata": {},
   "source": [
    "#### Components of AWS compliance\n",
    "1. Risk Management\n",
    "2. Control Environment\n",
    "3. Information security\n",
    "<img src='imgs/sec_compl_2.png' width='250'></img>\n",
    "*Credit: AWS training*\n",
    "\n"
   ]
  },
  {
   "cell_type": "markdown",
   "metadata": {},
   "source": [
    "###### Risk Management"
   ]
  },
  {
   "cell_type": "markdown",
   "metadata": {},
   "source": [
    "AWS management estabilished:\n",
    "* Business plan:\n",
    "    * includes risk management\n",
    "    * re-evaluated at elast biannually\n",
    "* Process:\n",
    "    * identify risks\n",
    "    * implement appropriate measures\n",
    "    * assess various internal/external risks\n",
    "    \n",
    "AWS compliance and security teams:\n",
    "* Estabilished framework and policies\n",
    "* Mantain security **policy**\n",
    "* Provide security **training**\n",
    "* Perform application security **reviews**\n",
    "    * Confidentiality, integrity, and availability of data\n",
    "    * Conformance to IS policy\n",
    "    \n",
    "##### Risk Management at work\n",
    "<img src='imgs/sec_compl_riskman_1.png' width='450'></img>\n",
    "*Credit: AWS training*\n",
    "It **scans** all endpoints, but NOT customers EC2 instances interfaces. Additionally, periodic assessments on vulnerabilities are regularly performed by external independent firms."
   ]
  },
  {
   "cell_type": "markdown",
   "metadata": {},
   "source": [
    "###### Control Environment"
   ]
  },
  {
   "cell_type": "markdown",
   "metadata": {},
   "source": [
    "Includes policies, processes and control activities to secure the delivery of AWS service offering\n",
    "* Supports the operaing effectinveness of AWS control framework\n",
    "* Integrates cloud-specific controls, identified by top industry agencies in the control framework. \n",
    "* Applies leading industry practices"
   ]
  },
  {
   "cell_type": "markdown",
   "metadata": {},
   "source": [
    "##### Information Security\n",
    "Implements also a Information Security designed to protect:\n",
    "* Confidentiality\n",
    "* Integrity\n",
    "* Availability\n",
    "\n",
    "It's published on whitepapers.  \n",
    "It allows a 360 goernance by the customer."
   ]
  },
  {
   "cell_type": "markdown",
   "metadata": {},
   "source": [
    "<img src='./imgs/sec_com_customcomp.png'></div>\n",
    "*Credit: AWS training*"
   ]
  },
  {
   "cell_type": "markdown",
   "metadata": {},
   "source": [
    "Wrap-up  \n",
    "AWS security compliance programs help customers:\n",
    "* Understand robust controls in place\n",
    "* Estabilish and operate in an AWS security conrtol environment"
   ]
  },
  {
   "cell_type": "markdown",
   "metadata": {
    "heading_collapsed": true
   },
   "source": [
    "## [<div id='pricing'>Pricing</div>](https://aws.amazon.com/pricing/)"
   ]
  },
  {
   "cell_type": "markdown",
   "metadata": {
    "hidden": true
   },
   "source": [
    "Is like water consume: you pay only for what you consume, not additiona lcosts"
   ]
  },
  {
   "cell_type": "markdown",
   "metadata": {
    "hidden": true
   },
   "source": [
    "### <div id='pricing_fundaments'>Fundaments of pricing</div>"
   ]
  },
  {
   "cell_type": "markdown",
   "metadata": {
    "hidden": true
   },
   "source": [
    "* Pay as you go\n",
    "* Save when you reserve\n",
    "* Pay less using more"
   ]
  },
  {
   "cell_type": "markdown",
   "metadata": {
    "hidden": true
   },
   "source": [
    "#### Pay-as-you-go\n",
    ">Pay-as-you-go allows you to easily adapt to changing business needs without overcommitting budgets and improving your responsiveness to changes.  With a pay-as-you-go model, you can adapt your business depending on need and not on forecasts, reducing the risk of overpositioning or missing capacity.\n",
    "\n",
    "#### Save when you reserve\n",
    ">For certain services like Amazon EC2 and Amazon RDS, you can invest in reserved capacity.  With Reserved Instances, you can save up to 75% over equivalent on-demand capacity.  When you buy Reserved Instances (RI), the larger the upfront payment, the greater the discount.\n",
    "* NURI (1yr No Upfront), 32% discount\n",
    "* PURI (1yr Partial Upfront), 42% discount\n",
    "* AURI (1yr All Upfront), 43% discount\n",
    "\n",
    "#### Pay less by using more\n",
    ">With AWS, you can get volume based discounts and realize important savings as your usage increases.  For services such as S3, pricing is tiered, meaning the more you use, the less you pay per GB.  AWS also gives you options to acquire services that help you address your business needs."
   ]
  },
  {
   "cell_type": "markdown",
   "metadata": {
    "hidden": true
   },
   "source": [
    "### <div id='pricing_details'>Pricing details</div>"
   ]
  },
  {
   "cell_type": "markdown",
   "metadata": {
    "hidden": true
   },
   "source": [
    "AWS cost fundamentals\n",
    "Pay for:\n",
    "* **Compute** capacity\n",
    "* **Storage**\n",
    "* **Outbound** data **transfer**(aggregated)\n",
    "\n",
    "No charge for Inbound data transfer"
   ]
  },
  {
   "cell_type": "markdown",
   "metadata": {
    "hidden": true
   },
   "source": [
    "Service pricing for AWS offerings:\n",
    "* EC2\n",
    "* S3\n",
    "* EBS\n",
    "* RDS\n",
    "* Cloudfront"
   ]
  },
  {
   "cell_type": "markdown",
   "metadata": {
    "hidden": true
   },
   "source": [
    "#### [<div id='price_EC2'>EC2 (computing)</div>](https://aws.amazon.com/ec2/pricing/)"
   ]
  },
  {
   "cell_type": "markdown",
   "metadata": {
    "hidden": true
   },
   "source": [
    "It is a **resizable** computing capacity in the cloud. It **changes** the economics of computing charging only for the actual use.  \n",
    "\n",
    "billing is per hour, cost is per second; thus resources incur charges only when running.\n",
    "\n",
    "Instance is configured by physical capacity and the price varies with:\n",
    "* AWS region\n",
    "* OS\n",
    "* Instance type\n",
    "* Instance size\n",
    "\n",
    "Purchase types:\n",
    "* [On-demand instances](https://aws.amazon.com/ec2/pricing/on-demand/):\n",
    "    * Compute capacity by the hour and second\n",
    "    * Minimum of 60 seconds\n",
    "    \n",
    "* [Reserved Instances](https://aws.amazon.com/ec2/pricing/reserved-instances/):\n",
    "    * Low or no-upfront payment instances reserved\n",
    "    * Discount on hourly charge for that instance\n",
    " \n",
    "* Spot instances:\n",
    "    * Bid for unused Amazon EC2 capacity\n",
    "    \n",
    "**Also have to consider**\n",
    "* Number of instances:\n",
    "    * Provision multiple instances to handle peak loads\n",
    "* Load balancing:\n",
    "    * Use Elastic Load Balancing to distribute traffic\n",
    "    * Monthly cost based on:\n",
    "        * Hours load balancer runs\n",
    "        * Data load balancer processes\n",
    "\n",
    "**Product options**\n",
    "* Monitoring:\n",
    "    * Cloudwatch\n",
    "    * Detailed monitoring (fixed rate, prorated partial months)\n",
    "* Auto Scaling:\n",
    "    * Automatically adjust number of instances\n",
    "    * No additional charge\n",
    "* Elastic IP Addresses:\n",
    "    * No charge when associated with a running instance\n",
    "    \n"
   ]
  },
  {
   "cell_type": "markdown",
   "metadata": {
    "hidden": true
   },
   "source": [
    "#### [<div id='price_S3'>S3 (storage)</div>](https://aws.amazon.com/s3/pricing/)"
   ]
  },
  {
   "cell_type": "markdown",
   "metadata": {
    "hidden": true
   },
   "source": [
    "Storage classes:\n",
    "* Standard Storage (max durability and availability)\n",
    "* S-IA (Standard-Infrequent Access)\n",
    "* Storage cost"
   ]
  },
  {
   "cell_type": "markdown",
   "metadata": {
    "hidden": true
   },
   "source": [
    "Cost factors  \n",
    "  \n",
    "Pricing based on:\n",
    "* Requests:\n",
    "    * Number\n",
    "    * Type\n",
    "* Data transfer:\n",
    "    * Amount of data transferred out of the AWS S3 region"
   ]
  },
  {
   "cell_type": "markdown",
   "metadata": {
    "hidden": true
   },
   "source": [
    "#### [<div id='price_EBS'>EBS (storage)</div>](https://aws.amazon.com/ebs/pricing/)"
   ]
  },
  {
   "cell_type": "markdown",
   "metadata": {
    "hidden": true
   },
   "source": [
    "*IOPS*: I/O Operations per second.\n",
    "\n",
    "\n",
    "3 Volume types:\n",
    "* General Purpose (SSD)\n",
    "* Provisioned IOPS (SDD)\n",
    "* Magnetic\n",
    "\n",
    "Cost Factors  \n",
    "* Volumes: whatever type charged by the amount provisioned per month\n",
    "* IOPS:\n",
    "    * General Purpose(SSD): included in price\n",
    "    * Prov IOPS(SSD): Charged by the amount of provision in IOPS\n",
    "    * Magnetic: Charged by the number of requests\n",
    "* Snapshots (for durable recovery): added cost per GB/month of data stored\n",
    "* Data transfer:\n",
    "    * Inbound data transfer has no charge.\n",
    "    * Outbound data transfer charges are tiered."
   ]
  },
  {
   "cell_type": "markdown",
   "metadata": {
    "hidden": true
   },
   "source": [
    "#### [<div id='price_RDS'>RDS (storage)</div>](https://aws.amazon.com/rds/pricing/)"
   ]
  },
  {
   "cell_type": "markdown",
   "metadata": {
    "hidden": true
   },
   "source": [
    "Cost-efficient and resizable costs.\n",
    "\n",
    "Cost factors:\n",
    "* Clock-hours billing: resources incur charges when running;\n",
    "* DB characteristics: engine, size, memory class impact cost;\n",
    "* DB purchase type:\n",
    "    * *on-demand* database instances are charged by the hour\n",
    "    * *reserved DB* instances are charged by the hour\n",
    "    * provision multiple DB instances to handle peak loads\n",
    "* Provisioned storage:\n",
    "    * no charge for backup storage of up to 100% of database storage\n",
    "    * backup storage for terminated DB instances billed at GB/month\n",
    "* Additional storage: backup storage in addition to provisioned storage billed at GB/month\n",
    "* Deployment type:\n",
    "     * Storage and I/O charges variable\n",
    "     * Single Availability Zones\n",
    "     * Multiple Availability Zones\n",
    "* Data transfer:\n",
    "    * No charge for inbound data transfer\n",
    "    * Tiered charges for outbound data transfer"
   ]
  },
  {
   "cell_type": "markdown",
   "metadata": {
    "hidden": true
   },
   "source": [
    "#### [<div id='price_CF'>CloudFront (data transfer)</div>](https://aws.amazon.com/cloudfront/pricing/)"
   ]
  },
  {
   "cell_type": "markdown",
   "metadata": {
    "hidden": true
   },
   "source": [
    "Pricing varies across geographic regions\n",
    "Based on:\n",
    "* Requests\n",
    "* Data transfer out"
   ]
  },
  {
   "cell_type": "markdown",
   "metadata": {
    "hidden": true
   },
   "source": [
    "#### Wrap-up"
   ]
  },
  {
   "cell_type": "markdown",
   "metadata": {
    "hidden": true
   },
   "source": [
    "Best way to estimate costs\n",
    "\n",
    "1. Examine fundamental characteristics of product\n",
    "2. Estimate usage\n",
    "3. Map usage to prices"
   ]
  },
  {
   "cell_type": "markdown",
   "metadata": {
    "hidden": true
   },
   "source": [
    "### [<div id='pricing_trustedadvisor'>Trusted Advisor</div>](https://aws.amazon.com/it/premiumsupport/technology/trusted-advisor/)"
   ]
  },
  {
   "cell_type": "markdown",
   "metadata": {
    "hidden": true
   },
   "source": [
    "Trusted Advisor provides **best practices** (or checks) in four categories. It acts like a guide for scaling your business efficiently and robustly.\n",
    "\n",
    "You can describe it as: a tool that provides you real time guidance to help you provision your resources following AWS best practices.\n",
    "\n",
    "Categories are:\n",
    "* Cost Optimization\n",
    "* Performance\n",
    "* Security\n",
    "* Fault Tolerance\n",
    "\n",
    "<img src='./imgs/pricing_trusted_advisor_1.png'>\n",
    "\n",
    "It also acts as an API\n",
    "\n",
    "<img src='./imgs/pricing_trusted_advisor_2.png'>\n",
    "\n",
    "It is automatizable as well"
   ]
  },
  {
   "cell_type": "markdown",
   "metadata": {
    "hidden": true
   },
   "source": [
    "Common services to notice:\n",
    "* Performance -> Service Limits. It shows you the limits of your services in use, along with advices about underuse or overuse.\n",
    "* Security. Shows notifications about misused services or unsecure applications.\n",
    "    * Fault Tolerance Checks, also provide best advices about actions to perform in order to recover from faults.\n",
    "\n",
    "It is compatible with CloudWatch, from which you can define actions (as Lambdas, rules, ..) to trigger whenever a specific status or event is notified by TA."
   ]
  },
  {
   "cell_type": "markdown",
   "metadata": {
    "hidden": true
   },
   "source": [
    "### [<div id='pricing_support'>Support Plans</div>](https://aws.amazon.com/it/premiumsupport/pricing/)"
   ]
  },
  {
   "cell_type": "markdown",
   "metadata": {
    "ExecuteTime": {
     "end_time": "2021-02-09T21:24:45.323830Z",
     "start_time": "2021-02-09T21:24:45.319290Z"
    },
    "hidden": true
   },
   "source": [
    "* Proactive guidance\n",
    "    * Technical Account Manager (TAM)\n",
    "        * A dedicated advocate\n",
    "* Best practices\n",
    "    * Trusted Advisor\n",
    "* Account assistance\n",
    "    * AWS Support Concierge\n",
    "    \n",
    "Support plans:\n",
    "* Basic\n",
    "* Developer\n",
    "* Business\n",
    "* Enterprise"
   ]
  },
  {
   "cell_type": "code",
   "execution_count": null,
   "metadata": {
    "hidden": true
   },
   "outputs": [],
   "source": []
  }
 ],
 "metadata": {
  "kernelspec": {
   "display_name": "Python38 (py38ml)",
   "language": "python",
   "name": "py38ml"
  },
  "language_info": {
   "codemirror_mode": {
    "name": "ipython",
    "version": 3
   },
   "file_extension": ".py",
   "mimetype": "text/x-python",
   "name": "python",
   "nbconvert_exporter": "python",
   "pygments_lexer": "ipython3",
   "version": "3.8.6"
  }
 },
 "nbformat": 4,
 "nbformat_minor": 4
}
